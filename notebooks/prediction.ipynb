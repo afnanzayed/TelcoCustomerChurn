{
  "cells": [
    {
      "cell_type": "code",
      "source": [
        "# Load the Drive helper and mount\n",
        "from google.colab import drive\n",
        "drive.mount('/content/drive')"
      ],
      "metadata": {
        "colab": {
          "base_uri": "https://localhost:8080/"
        },
        "id": "Hr0ugUukKTo_",
        "outputId": "63497ee2-204e-4ab3-9cce-494671a5456e"
      },
      "execution_count": 4,
      "outputs": [
        {
          "output_type": "stream",
          "name": "stdout",
          "text": [
            "Mounted at /content/drive\n"
          ]
        }
      ]
    },
    {
      "cell_type": "code",
      "execution_count": 91,
      "metadata": {
        "id": "iFyAg5YhKFEX"
      },
      "outputs": [],
      "source": [
        "import pandas as pd\n",
        "import xgboost as xgb\n",
        "\n",
        "import warnings\n",
        "warnings.filterwarnings(\"ignore\")\n",
        "\n",
        "with warnings.catch_warnings():\n",
        "    warnings.simplefilter(\"ignore\", category=FutureWarning)\n"
      ]
    },
    {
      "cell_type": "code",
      "execution_count": 230,
      "metadata": {
        "id": "XhlfNlB0KFEa"
      },
      "outputs": [],
      "source": [
        "NoChurnCostomer = pd.read_csv('/content/drive/MyDrive/Colab Notebooks/TelcoCustomerChurn/raw_data/customers_200.csv')\n",
        "ChurnCostomer = pd.read_csv('/content/drive/MyDrive/Colab Notebooks/TelcoCustomerChurn/raw_data/churn_customers_200.csv')\n",
        "Customers = pd.concat([NoChurnCostomer, ChurnCostomer])\n"
      ]
    },
    {
      "cell_type": "code",
      "source": [
        "Customers.shape"
      ],
      "metadata": {
        "colab": {
          "base_uri": "https://localhost:8080/"
        },
        "id": "f302Kl8LKn9Z",
        "outputId": "f63fdea7-4f38-4942-d59a-10170d0c5cfb"
      },
      "execution_count": 231,
      "outputs": [
        {
          "output_type": "execute_result",
          "data": {
            "text/plain": [
              "(400, 41)"
            ]
          },
          "metadata": {},
          "execution_count": 231
        }
      ]
    },
    {
      "cell_type": "code",
      "source": [
        "# Load the saved model\n",
        "loaded_model = xgb.Booster()\n",
        "loaded_model.load_model(\"/content/drive/MyDrive/Colab Notebooks/TelcoCustomerChurn/notebooks/best_xgb_model.json\")\n"
      ],
      "metadata": {
        "id": "JGn8-ynYKPmM"
      },
      "execution_count": 232,
      "outputs": []
    },
    {
      "cell_type": "code",
      "source": [
        "single_customer = Customers.iloc[[399]]\n",
        "\n",
        "# Convert the data to DMatrix format\n",
        "dtest = xgb.DMatrix(single_customer)\n"
      ],
      "metadata": {
        "id": "K1gkABg3NfLk"
      },
      "execution_count": 234,
      "outputs": []
    },
    {
      "cell_type": "code",
      "source": [
        "# Make predictions\n",
        "predictions = loaded_model.predict(dtest)\n"
      ],
      "metadata": {
        "id": "AERh0MglNuXY"
      },
      "execution_count": 235,
      "outputs": []
    },
    {
      "cell_type": "code",
      "source": [
        "def convert_probabilities_to_class(probabilities, threshold=0.32698652):\n",
        "    \"\"\"\n",
        "    Convert probabilities to binary classification labels based on a threshold.\n",
        "\n",
        "    Parameters:\n",
        "    probabilities (list or array-like): List of probabilities for the positive class.\n",
        "    threshold (float): The threshold to classify probabilities. Default is 0.5.\n",
        "\n",
        "    Returns:\n",
        "    list: List of classification labels ('Churn' or 'No Churn').\n",
        "    \"\"\"\n",
        "    return [\"Churn\" if prob > threshold else \"No Churn\" for prob in probabilities]\n",
        "\n",
        "# Example usage:\n",
        "\n",
        "predicted_class_churn = convert_probabilities_to_class(predictions)\n",
        "\n",
        "# Print the results\n",
        "print(\"Predicted Probability of Churn:\", predictions)\n",
        "print(\"Predicted Class:\", predicted_class_churn)\n",
        "\n"
      ],
      "metadata": {
        "colab": {
          "base_uri": "https://localhost:8080/"
        },
        "id": "B18G0-zjNwNP",
        "outputId": "36f73379-e386-431c-a218-ee42e28b2014"
      },
      "execution_count": 236,
      "outputs": [
        {
          "output_type": "stream",
          "name": "stdout",
          "text": [
            "Predicted Probability of Churn: [0.40701023]\n",
            "Predicted Class: ['Churn']\n"
          ]
        }
      ]
    },
    {
      "cell_type": "code",
      "source": [],
      "metadata": {
        "id": "WO-KEXBsV8nn"
      },
      "execution_count": null,
      "outputs": []
    }
  ],
  "metadata": {
    "kernelspec": {
      "display_name": "lewagon",
      "language": "python",
      "name": "python3"
    },
    "language_info": {
      "codemirror_mode": {
        "name": "ipython",
        "version": 3
      },
      "file_extension": ".py",
      "mimetype": "text/x-python",
      "name": "python",
      "nbconvert_exporter": "python",
      "pygments_lexer": "ipython3",
      "version": "3.10.6"
    },
    "colab": {
      "provenance": []
    }
  },
  "nbformat": 4,
  "nbformat_minor": 0
}