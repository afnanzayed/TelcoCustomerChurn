{
 "cells": [
  {
   "cell_type": "code",
   "execution_count": null,
   "metadata": {
    "colab": {
     "base_uri": "https://localhost:8080/"
    },
    "id": "Hr0ugUukKTo_",
    "outputId": "63497ee2-204e-4ab3-9cce-494671a5456e"
   },
   "outputs": [
    {
     "name": "stdout",
     "output_type": "stream",
     "text": [
      "Mounted at /content/drive\n"
     ]
    }
   ],
   "source": [
    "# # Load the Drive helper and mount\n",
    "# from google.colab import drive\n",
    "# drive.mount('/content/drive')"
   ]
  },
  {
   "cell_type": "code",
   "execution_count": 1,
   "metadata": {
    "id": "WO-KEXBsV8nn"
   },
   "outputs": [],
   "source": [
    "# !pip install streamlit\n",
    "# !pip install pyngrok\n"
   ]
  },
  {
   "cell_type": "code",
   "execution_count": 2,
   "metadata": {},
   "outputs": [],
   "source": [
    "# %%writefile app.py\n",
    "# import streamlit as st\n",
    "# import pandas as pd\n",
    "# import matplotlib.pyplot as plt\n",
    "\n",
    "# # Title\n",
    "# st.title(\"Data Science Project - Streamlit App\")\n",
    "\n",
    "# # Upload Data\n",
    "# uploaded_file = st.file_uploader(\"Upload your dataset (CSV)\", type=[\"csv\"])\n",
    "# if uploaded_file:\n",
    "#     data = pd.read_csv(uploaded_file)\n",
    "#     st.write(\"Data Preview:\")\n",
    "#     st.dataframe(data.head())\n",
    "\n",
    "#     # Analysis options\n",
    "#     if st.checkbox(\"Show Summary Statistics\"):\n",
    "#         st.write(data.describe())\n",
    "\n",
    "#     # Visualization\n",
    "#     if st.checkbox(\"Visualize Data\"):\n",
    "#         column = st.selectbox(\"Choose a column to visualize:\", data.columns)\n",
    "#         plt.hist(data[column].dropna(), bins=20)\n",
    "#         st.pyplot(plt)\n"
   ]
  }
 ],
 "metadata": {
  "colab": {
   "provenance": []
  },
  "kernelspec": {
   "display_name": "lewagon",
   "language": "python",
   "name": "python3"
  },
  "language_info": {
   "codemirror_mode": {
    "name": "ipython",
    "version": 3
   },
   "file_extension": ".py",
   "mimetype": "text/x-python",
   "name": "python",
   "nbconvert_exporter": "python",
   "pygments_lexer": "ipython3",
   "version": "3.10.6"
  }
 },
 "nbformat": 4,
 "nbformat_minor": 0
}
