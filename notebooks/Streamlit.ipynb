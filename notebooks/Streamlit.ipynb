{
 "cells": [
  {
   "cell_type": "code",
   "execution_count": null,
   "metadata": {
    "colab": {
     "base_uri": "https://localhost:8080/"
    },
    "id": "Hr0ugUukKTo_",
    "outputId": "63497ee2-204e-4ab3-9cce-494671a5456e"
   },
   "outputs": [
    {
     "name": "stdout",
     "output_type": "stream",
     "text": [
      "Mounted at /content/drive\n"
     ]
    }
   ],
   "source": [
    "# # Load the Drive helper and mount\n",
    "# from google.colab import drive\n",
    "# drive.mount('/content/drive')"
   ]
  },
  {
   "cell_type": "code",
   "execution_count": 1,
   "metadata": {
    "id": "WO-KEXBsV8nn"
   },
   "outputs": [
    {
     "name": "stdout",
     "output_type": "stream",
     "text": [
      "Requirement already satisfied: streamlit in /Users/afnanalamri/.pyenv/versions/3.10.6/envs/lewagon/lib/python3.10/site-packages (1.11.1)\n",
      "Requirement already satisfied: altair>=3.2.0 in /Users/afnanalamri/.pyenv/versions/3.10.6/envs/lewagon/lib/python3.10/site-packages (from streamlit) (4.2.0)\n",
      "Requirement already satisfied: attrs>=16.0.0 in /Users/afnanalamri/.pyenv/versions/3.10.6/envs/lewagon/lib/python3.10/site-packages (from streamlit) (22.1.0)\n",
      "Requirement already satisfied: blinker>=1.0.0 in /Users/afnanalamri/.pyenv/versions/3.10.6/envs/lewagon/lib/python3.10/site-packages (from streamlit) (1.5)\n",
      "Requirement already satisfied: cachetools>=4.0 in /Users/afnanalamri/.pyenv/versions/3.10.6/envs/lewagon/lib/python3.10/site-packages (from streamlit) (5.2.0)\n",
      "Requirement already satisfied: click>=7.0 in /Users/afnanalamri/.pyenv/versions/3.10.6/envs/lewagon/lib/python3.10/site-packages (from streamlit) (8.1.3)\n",
      "Requirement already satisfied: gitpython!=3.1.19 in /Users/afnanalamri/.pyenv/versions/3.10.6/envs/lewagon/lib/python3.10/site-packages (from streamlit) (3.1.29)\n",
      "Requirement already satisfied: importlib-metadata>=1.4 in /Users/afnanalamri/.pyenv/versions/3.10.6/envs/lewagon/lib/python3.10/site-packages (from streamlit) (5.0.0)\n",
      "Requirement already satisfied: numpy in /Users/afnanalamri/.pyenv/versions/3.10.6/envs/lewagon/lib/python3.10/site-packages (from streamlit) (1.23.4)\n",
      "Requirement already satisfied: packaging>=14.1 in /Users/afnanalamri/.pyenv/versions/3.10.6/envs/lewagon/lib/python3.10/site-packages (from streamlit) (21.3)\n",
      "Requirement already satisfied: pandas>=0.21.0 in /Users/afnanalamri/.pyenv/versions/3.10.6/envs/lewagon/lib/python3.10/site-packages (from streamlit) (1.4.4)\n",
      "Requirement already satisfied: pillow>=6.2.0 in /Users/afnanalamri/.pyenv/versions/3.10.6/envs/lewagon/lib/python3.10/site-packages (from streamlit) (9.1.1)\n",
      "Requirement already satisfied: protobuf<4,>=3.12 in /Users/afnanalamri/.pyenv/versions/3.10.6/envs/lewagon/lib/python3.10/site-packages (from streamlit) (3.19.6)\n",
      "Requirement already satisfied: pyarrow>=4.0 in /Users/afnanalamri/.pyenv/versions/3.10.6/envs/lewagon/lib/python3.10/site-packages (from streamlit) (8.0.0)\n",
      "Requirement already satisfied: pydeck>=0.1.dev5 in /Users/afnanalamri/.pyenv/versions/3.10.6/envs/lewagon/lib/python3.10/site-packages (from streamlit) (0.8.0b4)\n",
      "Requirement already satisfied: pympler>=0.9 in /Users/afnanalamri/.pyenv/versions/3.10.6/envs/lewagon/lib/python3.10/site-packages (from streamlit) (1.0.1)\n",
      "Requirement already satisfied: python-dateutil in /Users/afnanalamri/.pyenv/versions/3.10.6/envs/lewagon/lib/python3.10/site-packages (from streamlit) (2.8.2)\n",
      "Requirement already satisfied: requests>=2.4 in /Users/afnanalamri/.pyenv/versions/3.10.6/envs/lewagon/lib/python3.10/site-packages (from streamlit) (2.28.1)\n",
      "Requirement already satisfied: rich>=10.11.0 in /Users/afnanalamri/.pyenv/versions/3.10.6/envs/lewagon/lib/python3.10/site-packages (from streamlit) (12.6.0)\n",
      "Requirement already satisfied: semver in /Users/afnanalamri/.pyenv/versions/3.10.6/envs/lewagon/lib/python3.10/site-packages (from streamlit) (2.13.0)\n",
      "Requirement already satisfied: toml in /Users/afnanalamri/.pyenv/versions/3.10.6/envs/lewagon/lib/python3.10/site-packages (from streamlit) (0.10.2)\n",
      "Requirement already satisfied: tornado>=5.0 in /Users/afnanalamri/.pyenv/versions/3.10.6/envs/lewagon/lib/python3.10/site-packages (from streamlit) (6.2)\n",
      "Requirement already satisfied: typing-extensions>=3.10.0.0 in /Users/afnanalamri/.pyenv/versions/3.10.6/envs/lewagon/lib/python3.10/site-packages (from streamlit) (4.4.0)\n",
      "Requirement already satisfied: tzlocal>=1.1 in /Users/afnanalamri/.pyenv/versions/3.10.6/envs/lewagon/lib/python3.10/site-packages (from streamlit) (4.2)\n",
      "Requirement already satisfied: validators>=0.2 in /Users/afnanalamri/.pyenv/versions/3.10.6/envs/lewagon/lib/python3.10/site-packages (from streamlit) (0.20.0)\n",
      "Requirement already satisfied: entrypoints in /Users/afnanalamri/.pyenv/versions/3.10.6/envs/lewagon/lib/python3.10/site-packages (from altair>=3.2.0->streamlit) (0.4)\n",
      "Requirement already satisfied: jinja2 in /Users/afnanalamri/.pyenv/versions/3.10.6/envs/lewagon/lib/python3.10/site-packages (from altair>=3.2.0->streamlit) (3.1.2)\n",
      "Requirement already satisfied: jsonschema>=3.0 in /Users/afnanalamri/.pyenv/versions/3.10.6/envs/lewagon/lib/python3.10/site-packages (from altair>=3.2.0->streamlit) (4.16.0)\n",
      "Requirement already satisfied: toolz in /Users/afnanalamri/.pyenv/versions/3.10.6/envs/lewagon/lib/python3.10/site-packages (from altair>=3.2.0->streamlit) (0.12.0)\n",
      "Requirement already satisfied: gitdb<5,>=4.0.1 in /Users/afnanalamri/.pyenv/versions/3.10.6/envs/lewagon/lib/python3.10/site-packages (from gitpython!=3.1.19->streamlit) (4.0.9)\n",
      "Requirement already satisfied: zipp>=0.5 in /Users/afnanalamri/.pyenv/versions/3.10.6/envs/lewagon/lib/python3.10/site-packages (from importlib-metadata>=1.4->streamlit) (3.10.0)\n",
      "Requirement already satisfied: pyparsing!=3.0.5,>=2.0.2 in /Users/afnanalamri/.pyenv/versions/3.10.6/envs/lewagon/lib/python3.10/site-packages (from packaging>=14.1->streamlit) (3.0.9)\n",
      "Requirement already satisfied: pytz>=2020.1 in /Users/afnanalamri/.pyenv/versions/3.10.6/envs/lewagon/lib/python3.10/site-packages (from pandas>=0.21.0->streamlit) (2022.1)\n",
      "Requirement already satisfied: six>=1.5 in /Users/afnanalamri/.pyenv/versions/3.10.6/envs/lewagon/lib/python3.10/site-packages (from python-dateutil->streamlit) (1.16.0)\n",
      "Requirement already satisfied: charset-normalizer<3,>=2 in /Users/afnanalamri/.pyenv/versions/3.10.6/envs/lewagon/lib/python3.10/site-packages (from requests>=2.4->streamlit) (2.1.1)\n",
      "Requirement already satisfied: idna<4,>=2.5 in /Users/afnanalamri/.pyenv/versions/3.10.6/envs/lewagon/lib/python3.10/site-packages (from requests>=2.4->streamlit) (2.10)\n",
      "Requirement already satisfied: urllib3<1.27,>=1.21.1 in /Users/afnanalamri/.pyenv/versions/3.10.6/envs/lewagon/lib/python3.10/site-packages (from requests>=2.4->streamlit) (1.26.12)\n",
      "Requirement already satisfied: certifi>=2017.4.17 in /Users/afnanalamri/.pyenv/versions/3.10.6/envs/lewagon/lib/python3.10/site-packages (from requests>=2.4->streamlit) (2022.9.24)\n",
      "Requirement already satisfied: commonmark<0.10.0,>=0.9.0 in /Users/afnanalamri/.pyenv/versions/3.10.6/envs/lewagon/lib/python3.10/site-packages (from rich>=10.11.0->streamlit) (0.9.1)\n",
      "Requirement already satisfied: pygments<3.0.0,>=2.6.0 in /Users/afnanalamri/.pyenv/versions/3.10.6/envs/lewagon/lib/python3.10/site-packages (from rich>=10.11.0->streamlit) (2.13.0)\n",
      "Requirement already satisfied: pytz-deprecation-shim in /Users/afnanalamri/.pyenv/versions/3.10.6/envs/lewagon/lib/python3.10/site-packages (from tzlocal>=1.1->streamlit) (0.1.0.post0)\n",
      "Requirement already satisfied: decorator>=3.4.0 in /Users/afnanalamri/.pyenv/versions/3.10.6/envs/lewagon/lib/python3.10/site-packages (from validators>=0.2->streamlit) (5.1.1)\n",
      "Requirement already satisfied: smmap<6,>=3.0.1 in /Users/afnanalamri/.pyenv/versions/3.10.6/envs/lewagon/lib/python3.10/site-packages (from gitdb<5,>=4.0.1->gitpython!=3.1.19->streamlit) (5.0.0)\n",
      "Requirement already satisfied: MarkupSafe>=2.0 in /Users/afnanalamri/.pyenv/versions/3.10.6/envs/lewagon/lib/python3.10/site-packages (from jinja2->altair>=3.2.0->streamlit) (2.1.1)\n",
      "Requirement already satisfied: pyrsistent!=0.17.0,!=0.17.1,!=0.17.2,>=0.14.0 in /Users/afnanalamri/.pyenv/versions/3.10.6/envs/lewagon/lib/python3.10/site-packages (from jsonschema>=3.0->altair>=3.2.0->streamlit) (0.18.1)\n",
      "Requirement already satisfied: tzdata in /Users/afnanalamri/.pyenv/versions/3.10.6/envs/lewagon/lib/python3.10/site-packages (from pytz-deprecation-shim->tzlocal>=1.1->streamlit) (2022.5)\n",
      "\n",
      "\u001b[1m[\u001b[0m\u001b[34;49mnotice\u001b[0m\u001b[1;39;49m]\u001b[0m\u001b[39;49m A new release of pip is available: \u001b[0m\u001b[31;49m24.2\u001b[0m\u001b[39;49m -> \u001b[0m\u001b[32;49m24.3.1\u001b[0m\n",
      "\u001b[1m[\u001b[0m\u001b[34;49mnotice\u001b[0m\u001b[1;39;49m]\u001b[0m\u001b[39;49m To update, run: \u001b[0m\u001b[32;49mpip install --upgrade pip\u001b[0m\n",
      "Collecting pyngrok\n",
      "  Downloading pyngrok-7.2.1-py3-none-any.whl.metadata (8.3 kB)\n",
      "Requirement already satisfied: PyYAML>=5.1 in /Users/afnanalamri/.pyenv/versions/3.10.6/envs/lewagon/lib/python3.10/site-packages (from pyngrok) (6.0.1)\n",
      "Downloading pyngrok-7.2.1-py3-none-any.whl (22 kB)\n",
      "Installing collected packages: pyngrok\n",
      "Successfully installed pyngrok-7.2.1\n",
      "\n",
      "\u001b[1m[\u001b[0m\u001b[34;49mnotice\u001b[0m\u001b[1;39;49m]\u001b[0m\u001b[39;49m A new release of pip is available: \u001b[0m\u001b[31;49m24.2\u001b[0m\u001b[39;49m -> \u001b[0m\u001b[32;49m24.3.1\u001b[0m\n",
      "\u001b[1m[\u001b[0m\u001b[34;49mnotice\u001b[0m\u001b[1;39;49m]\u001b[0m\u001b[39;49m To update, run: \u001b[0m\u001b[32;49mpip install --upgrade pip\u001b[0m\n"
     ]
    }
   ],
   "source": [
    "!pip install streamlit\n",
    "!pip install pyngrok\n"
   ]
  },
  {
   "cell_type": "code",
   "execution_count": null,
   "metadata": {},
   "outputs": [
    {
     "name": "stdout",
     "output_type": "stream",
     "text": [
      "Writing app.py\n"
     ]
    }
   ],
   "source": [
    "# %%writefile app.py\n",
    "# import streamlit as st\n",
    "# import pandas as pd\n",
    "# import matplotlib.pyplot as plt\n",
    "\n",
    "# # Title\n",
    "# st.title(\"Data Science Project - Streamlit App\")\n",
    "\n",
    "# # Upload Data\n",
    "# uploaded_file = st.file_uploader(\"Upload your dataset (CSV)\", type=[\"csv\"])\n",
    "# if uploaded_file:\n",
    "#     data = pd.read_csv(uploaded_file)\n",
    "#     st.write(\"Data Preview:\")\n",
    "#     st.dataframe(data.head())\n",
    "\n",
    "#     # Analysis options\n",
    "#     if st.checkbox(\"Show Summary Statistics\"):\n",
    "#         st.write(data.describe())\n",
    "\n",
    "#     # Visualization\n",
    "#     if st.checkbox(\"Visualize Data\"):\n",
    "#         column = st.selectbox(\"Choose a column to visualize:\", data.columns)\n",
    "#         plt.hist(data[column].dropna(), bins=20)\n",
    "#         st.pyplot(plt)\n"
   ]
  },
  {
   "cell_type": "code",
   "execution_count": null,
   "metadata": {},
   "outputs": [],
   "source": []
  }
 ],
 "metadata": {
  "colab": {
   "provenance": []
  },
  "kernelspec": {
   "display_name": "lewagon",
   "language": "python",
   "name": "python3"
  },
  "language_info": {
   "codemirror_mode": {
    "name": "ipython",
    "version": 3
   },
   "file_extension": ".py",
   "mimetype": "text/x-python",
   "name": "python",
   "nbconvert_exporter": "python",
   "pygments_lexer": "ipython3",
   "version": "3.10.6"
  }
 },
 "nbformat": 4,
 "nbformat_minor": 0
}
